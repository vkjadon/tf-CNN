{
  "nbformat": 4,
  "nbformat_minor": 0,
  "metadata": {
    "colab": {
      "provenance": [],
      "include_colab_link": true
    },
    "kernelspec": {
      "name": "python3",
      "display_name": "Python 3"
    },
    "language_info": {
      "name": "python"
    }
  },
  "cells": [
    {
      "cell_type": "markdown",
      "metadata": {
        "id": "view-in-github",
        "colab_type": "text"
      },
      "source": [
        "<a href=\"https://colab.research.google.com/github/vkjadon/tf-CNN/blob/main/tf116introCNN.ipynb\" target=\"_parent\"><img src=\"https://colab.research.google.com/assets/colab-badge.svg\" alt=\"Open In Colab\"/></a>"
      ]
    },
    {
      "cell_type": "code",
      "execution_count": 2,
      "metadata": {
        "colab": {
          "base_uri": "https://localhost:8080/"
        },
        "id": "OcZyoPHxtcCP",
        "outputId": "e0eda7cf-bd7c-4e33-8b27-3fd4a2ecb323"
      },
      "outputs": [
        {
          "output_type": "stream",
          "name": "stdout",
          "text": [
            "The autoreload extension is already loaded. To reload it, use:\n",
            "  %reload_ext autoreload\n"
          ]
        }
      ],
      "source": [
        "import numpy as np\n",
        "import h5py\n",
        "import matplotlib.pyplot as plt\n",
        "\n",
        "%matplotlib inline\n",
        "plt.rcParams['figure.figsize'] = (5.0, 4.0) # set default size of plots\n",
        "plt.rcParams['image.interpolation'] = 'nearest'\n",
        "plt.rcParams['image.cmap'] = 'gray'\n",
        "\n",
        "%load_ext autoreload\n",
        "%autoreload 2"
      ]
    },
    {
      "cell_type": "markdown",
      "source": [
        "### Implementing Padding\n",
        "\n",
        "Let us write a function to implementing padding using `numpy` pad method. Padding helps maintain spatial dimensions and prevents information loss along the edges of the data. The `numpy.pad()` function takes several arguments, including the array to pad, the padding sizes for each dimension, and the mode of padding (constant, edge, wrap, etc.).\n",
        "\n",
        "The general syntax of the `numpy.pad()` function:\n",
        "\n",
        "```\n",
        "numpy.pad(array, pad_width, mode)\n",
        "```\n",
        "Suppose you have a grayscale image represented as a 2D NumPy array and you want to apply padding to it before performing a convolution operation. Here's how you can use `numpy.pad()`:\n",
        "\n"
      ],
      "metadata": {
        "id": "_RME1bMZt8-n"
      }
    },
    {
      "cell_type": "code",
      "source": [
        "image = np.arange(1,26).reshape(5,5)\n",
        "\n",
        "# Add zero-padding of size 1 to all sides\n",
        "padded_image = np.pad(image, pad_width=1, mode='constant')\n",
        "\n",
        "print(\"Original Image:\")\n",
        "print(image)\n",
        "\n",
        "print(\"\\nPadded Image:\")\n",
        "print(padded_image)"
      ],
      "metadata": {
        "id": "SiMYqMEgoTSV"
      },
      "execution_count": null,
      "outputs": []
    },
    {
      "cell_type": "markdown",
      "source": [
        "In this example, the `numpy.pad()` function adds a border of zeros (constant value padding) around the original 5x5 grayscale image. The padding size is specified as `pad_width=1` for all sides. The resulting padded image has a size of 7x7."
      ],
      "metadata": {
        "id": "2jXUDl1Rq_rX"
      }
    },
    {
      "cell_type": "code",
      "source": [
        "fig, axarr = plt.subplots(1, 2)\n",
        "axarr[0].set_title('Original Image')\n",
        "axarr[0].imshow(image)\n",
        "axarr[1].set_title('Padded Image')\n",
        "axarr[1].imshow(padded_image)"
      ],
      "metadata": {
        "colab": {
          "base_uri": "https://localhost:8080/",
          "height": 277
        },
        "id": "rk0mYYVBoiEc",
        "outputId": "a6ecf7d0-e137-409c-fbc4-8732f1da8b6c"
      },
      "execution_count": 30,
      "outputs": [
        {
          "output_type": "execute_result",
          "data": {
            "text/plain": [
              "<matplotlib.image.AxesImage at 0x7c664c18b7f0>"
            ]
          },
          "metadata": {},
          "execution_count": 30
        },
        {
          "output_type": "display_data",
          "data": {
            "text/plain": [
              "<Figure size 500x400 with 2 Axes>"
            ],
            "image/png": "[encoded data removed]"
          },
          "metadata": {}
        }
      ]
    },
    {
      "cell_type": "markdown",
      "source": [
        "\n",
        "The above code pads the image with zeros and evident from image in right. The padding is applied to the height and width of an image.\n",
        "\n",
        "In some of the operation we, need to give padding of different size to hight and width. In such cases, it is convinient to develop a custom function to deploy the padding.\n",
        "\n",
        "The function should take a batch of the images and array of pad for each dimension of the image. The shape of the mage (m, n_H, n_W, n_C) represents a batch of m images with n_C channels and pad is an array of the padding to be applied to each of the dimension.\n",
        "    \n",
        "It is obvious that the function to return the padded images. The shape of the padded image would be *(m, n_H + 2 * pad, n_W + 2 * pad, n_C)*"
      ],
      "metadata": {
        "id": "1ZP4eiX7sgcq"
      }
    },
    {
      "cell_type": "code",
      "source": [
        "def zero_pad(X, pad):\n",
        "\n",
        "  X_pad = np.pad(X, pad, mode='constant', constant_values = (0,0))\n",
        "\n",
        "  return X_pad"
      ],
      "metadata": {
        "id": "nUNs94rst24O"
      },
      "execution_count": 27,
      "outputs": []
    },
    {
      "cell_type": "code",
      "source": [
        "np.random.seed(1)\n",
        "x=np.random.randint(0,256, size=(1,3,3,1))\n",
        "pad=np.array([(0,0), (2,2), (2,2), (0,0)])\n",
        "x_pad = zero_pad(x, pad)\n",
        "print (\"x.shape =\\n\", x.shape)\n",
        "print (\"x_pad.shape =\\n\", x_pad.shape)\n",
        "print (\"x[0,:,:,0] =\\n\", x[0,:,:,0])\n",
        "# print (\"x_pad[1,1] =\\n\", x_pad[0])\n",
        "\n",
        "fig, axarr = plt.subplots(1, 2)\n",
        "axarr[0].set_title('x')\n",
        "axarr[0].imshow(x[0, :, :, 0])\n",
        "axarr[1].set_title('x_pad')\n",
        "axarr[1].imshow(x_pad[0, :, :, 0])"
      ],
      "metadata": {
        "colab": {
          "base_uri": "https://localhost:8080/",
          "height": 420
        },
        "id": "unmHfIFTuCG4",
        "outputId": "97da9641-ced2-4fef-84d9-1e810c5ec1bb"
      },
      "execution_count": 43,
      "outputs": [
        {
          "output_type": "stream",
          "name": "stdout",
          "text": [
            "x.shape =\n",
            " (1, 3, 3, 1)\n",
            "x_pad.shape =\n",
            " (1, 7, 7, 1)\n",
            "x[0,:,:,0] =\n",
            " [[ 37 235 140]\n",
            " [ 72 255 137]\n",
            " [203 133  79]]\n"
          ]
        },
        {
          "output_type": "execute_result",
          "data": {
            "text/plain": [
              "<matplotlib.image.AxesImage at 0x7c6641a63dc0>"
            ]
          },
          "metadata": {},
          "execution_count": 43
        },
        {
          "output_type": "display_data",
          "data": {
            "text/plain": [
              "<Figure size 500x400 with 2 Axes>"
            ],
            "image/png": "[encoded data removed]"
          },
          "metadata": {}
        }
      ]
    },
    {
      "cell_type": "markdown",
      "source": [
        "### Exercise 2 - conv_single_step\n",
        "Implement `conv_single_step()`.\n",
        "\n",
        "Apply one filter defined by parameters W on a single slice (a_slice_prev) of the output activation of the previous layer.\n",
        "\n",
        "Arguments:\n",
        "\n",
        "- a_slice_prev -- slice of input data of shape (f, f, n_C_prev)\n",
        "- W -- Weight parameters contained in a window - matrix of shape (f, f, n_C_prev)\n",
        "- b -- Bias parameters contained in a window - matrix of shape (1, 1, 1)\n",
        "\n",
        "Returns:\n",
        "\n",
        "- Z -- a scalar value, the result of convolving the sliding window (W, b) on a slice x of the input data"
      ],
      "metadata": {
        "id": "0Lgf7HObu7uX"
      }
    },
    {
      "cell_type": "code",
      "source": [
        "def conv_single_step(a_slice_prev, W, b):\n",
        "\n",
        "    # Element-wise product between a_slice_prev and W. Do not add the bias yet.\n",
        "    b=b[0][0][0].astype(np.float64)\n",
        "\n",
        "    # Sum over all entries of the volume s.\n",
        "    s = np.multiply(a_slice_prev, W)\n",
        "\n",
        "    # Add bias b to Z. Cast b to a float() so that Z results in a scalar value.\n",
        "    Z = np.sum(s)+b\n",
        "    #print(b)\n",
        "    #print(type(Z))\n",
        "\n",
        "    return Z"
      ],
      "metadata": {
        "id": "jczAPHrhuF_8"
      },
      "execution_count": 38,
      "outputs": []
    },
    {
      "cell_type": "code",
      "source": [
        "np.random.seed(1)\n",
        "a_slice_prev = np.random.randn(4, 4, 3)\n",
        "W = np.random.randn(4, 4, 3)\n",
        "b = np.random.randn(1, 1, 1)\n",
        "\n",
        "Z = conv_single_step(a_slice_prev, W, b)\n",
        "print(\"Z =\", Z)\n",
        "\n",
        "assert (type(Z) == np.float64), \"You must cast the output to numpy float 64\"\n",
        "assert np.isclose(Z, -6.999089450680221), \"Wrong value\""
      ],
      "metadata": {
        "colab": {
          "base_uri": "https://localhost:8080/"
        },
        "id": "btB4maxavFbv",
        "outputId": "919494d4-d011-4663-ae59-d08ad7a837e8"
      },
      "execution_count": null,
      "outputs": [
        {
          "output_type": "stream",
          "name": "stdout",
          "text": [
            "Z = -6.999089450680221\n"
          ]
        }
      ]
    },
    {
      "cell_type": "markdown",
      "source": [
        "### Exercise 3 -  conv_forward\n",
        "Implement the function below to convolve the filters `W` on an input activation `A_prev`.  \n",
        "This function takes the following inputs:\n",
        "* `A_prev`, the activations output by the previous layer (for a batch of m inputs);\n",
        "* Weights are denoted by `W`.  The filter window size is `f` by `f`.\n",
        "* The bias vector is `b`, where each filter has its own (single) bias.\n",
        "\n",
        "You also have access to the hyperparameters dictionary, which contains the stride and the padding.\n",
        "\n",
        "**Hint**:\n",
        "1. To select a 2x2 slice at the upper left corner of a matrix \"a_prev\" (shape (5,5,3)), you would do:\n",
        "```python\n",
        "a_slice_prev = a_prev[0:2,0:2,:]\n",
        "```\n",
        "Notice how this gives a 3D slice that has height 2, width 2, and depth 3.  Depth is the number of channels.  \n",
        "This will be useful when you will define `a_slice_prev` below, using the `start/end` indexes you will define.\n",
        "\n",
        "2. To define a_slice you will need to first define its corners `vert_start`, `vert_end`, `horiz_start` and `horiz_end`. This figure may be helpful for you to find out how each of the corners can be defined using h, w, f and s in the code below.\n",
        "\n",
        "\n",
        "\n",
        "**Reminder**:\n",
        "    \n",
        "The formulas relating the output shape of the convolution to the input shape are:\n",
        "    \n",
        "$$n_H = \\Bigl\\lfloor \\frac{n_{H_{prev}} - f + 2 \\times pad}{stride} \\Bigr\\rfloor +1$$\n",
        "$$n_W = \\Bigl\\lfloor \\frac{n_{W_{prev}} - f + 2 \\times pad}{stride} \\Bigr\\rfloor +1$$\n",
        "$$n_C = \\text{number of filters used in the convolution}$$\n",
        "    \n",
        "\n",
        "\n",
        "\n",
        "For this exercise, don't worry about vectorization! Just implement everything with for-loops."
      ],
      "metadata": {
        "id": "OMXnQqZQvRLa"
      }
    },
    {
      "cell_type": "markdown",
      "source": [
        "#### Additional Hints (if you're stuck):\n",
        "\n",
        "\n",
        "* Use array slicing (e.g.`varname[0:1,:,3:5]`) for the following variables:  \n",
        "  `a_prev_pad` ,`W`, `b`  \n",
        "  - Copy the starter code of the function and run it outside of the defined function, in separate cells.  \n",
        "  - Check that the subset of each array is the size and dimension that you're expecting.  \n",
        "* To decide how to get the `vert_start`, `vert_end`, `horiz_start`, `horiz_end`, remember that these are indices of the previous layer.  \n",
        "  - Draw an example of a previous padded layer (8 x 8, for instance), and the current (output layer) (2 x 2, for instance).  \n",
        "  - The output layer's indices are denoted by `h` and `w`.  \n",
        "* Make sure that `a_slice_prev` has a height, width and depth.\n",
        "* Remember that `a_prev_pad` is a subset of `A_prev_pad`.  \n",
        "  - Think about which one should be used within the for loops."
      ],
      "metadata": {
        "id": "Q2mw9gP2vWQX"
      }
    },
    {
      "cell_type": "code",
      "source": [
        "def conv_forward(A_prev, W, b, hparameters):\n",
        "    \"\"\"\n",
        "    Implements the forward propagation for a convolution function\n",
        "\n",
        "    Arguments:\n",
        "    A_prev -- output activations of the previous layer,\n",
        "        numpy array of shape (m, n_H_prev, n_W_prev, n_C_prev)\n",
        "    W -- Weights, numpy array of shape (f, f, n_C_prev, n_C)\n",
        "    b -- Biases, numpy array of shape (1, 1, 1, n_C)\n",
        "    hparameters -- python dictionary containing \"stride\" and \"pad\"\n",
        "\n",
        "    Returns:\n",
        "    Z -- conv output, numpy array of shape (m, n_H, n_W, n_C)\n",
        "    cache -- cache of values needed for the conv_backward() function\n",
        "    \"\"\"\n",
        "\n",
        "    # Retrieve dimensions from A_prev's shape (≈1 line)\n",
        "    (m, n_H_prev, n_W_prev, n_C_prev) = A_prev.shape\n",
        "    print(m,n_H_prev, n_W_prev, n_C_prev)\n",
        "\n",
        "    # Retrieve dimensions from W's shape (≈1 line)\n",
        "    (f, f, n_C_prev, n_C) = W.shape\n",
        "    print(f,f, n_C_prev, n_C)\n",
        "\n",
        "    # Retrieve information from \"hparameters\" (≈2 lines)\n",
        "    pad=hparameters[\"pad\"]\n",
        "    stride=hparameters[\"stride\"]\n",
        "    print(pad,stride)\n",
        "\n",
        "    # Compute the dimensions of the CONV output volume using the formula given above.\n",
        "    # Hint: use int() to apply the 'floor' operation. (≈2 lines)\n",
        "    n_H = int(((n_H_prev+2*pad-f)/stride)+1)\n",
        "    n_W = int(((n_W_prev+2*pad-f)/stride)+1)\n",
        "    print(n_H, n_W)\n",
        "\n",
        "    # Initialize the output volume Z with zeros. (≈1 line)\n",
        "    Z = np.zeros([m,n_H,n_W,n_C])\n",
        "    print(Z.shape)\n",
        "\n",
        "    # Create A_prev_pad by padding A_prev\n",
        "    print(A_prev.shape)\n",
        "    A_prev_pad=zero_pad(A_prev, pad)\n",
        "    print(A_prev_pad.shape)\n",
        "\n",
        "    for i in range(m):               # loop over the batch of training examples\n",
        "        a_prev_pad = A_prev_pad[i]               # Select ith training example's padded activation\n",
        "        for h in range(n_H):           # loop over vertical axis of the output volume\n",
        "            # Find the vertical start and end of the current \"slice\" (≈2 lines)\n",
        "            vert_start = h * stride\n",
        "            vert_end = vert_start + f\n",
        "\n",
        "            for w in range(n_W):       # loop over horizontal axis of the output volume\n",
        "                # Find the horizontal start and end of the current \"slice\" (≈2 lines)\n",
        "                horiz_start = w * stride\n",
        "                horiz_end = horiz_start + f\n",
        "\n",
        "                for c in range(n_C):   # loop over channels (= #filters) of the output volume\n",
        "                    # Use the corners to define the (3D) slice of a_prev_pad (See Hint above the cell). (≈1 line)\n",
        "                    a_slice_prev = a_prev_pad[vert_start:vert_end, horiz_start:horiz_end, :]\n",
        "                    # Convolve the (3D) slice with the correct filter W and bias b, to get back one output neuron. (≈3 line)\n",
        "                    Z[i, h, w, c] = conv_single_step(a_slice_prev, W[:,:,:,c], b[:,:,:,c])\n",
        "\n",
        "    # Save information in \"cache\" for the backprop\n",
        "    cache = (A_prev, W, b, hparameters)\n",
        "\n",
        "    return Z, cache"
      ],
      "metadata": {
        "id": "aloATbncvJkG"
      },
      "execution_count": null,
      "outputs": []
    },
    {
      "cell_type": "code",
      "source": [
        "np.random.seed(1)\n",
        "A_prev = np.random.randn(2, 5, 7, 4)\n",
        "W = np.random.randn(3, 3, 4, 8)\n",
        "b = np.random.randn(1, 1, 1, 8)\n",
        "hparameters = {\"pad\" : 1,\n",
        "               \"stride\": 2}\n",
        "\n",
        "Z, cache_conv = conv_forward(A_prev, W, b, hparameters)\n",
        "z_mean = np.mean(Z)\n",
        "z_0_2_1 = Z[0, 2, 1]\n",
        "cache_0_1_2_3 = cache_conv[0][1][2][3]\n",
        "print(\"Z's mean =\\n\", z_mean)\n",
        "print(\"Z[0,2,1] =\\n\", z_0_2_1)\n",
        "print(\"cache_conv[0][1][2][3] =\\n\", cache_0_1_2_3)"
      ],
      "metadata": {
        "colab": {
          "base_uri": "https://localhost:8080/"
        },
        "id": "Zs2KImcXvl_2",
        "outputId": "97b6113f-fff9-4f9e-9e62-7bbbd66e14bf"
      },
      "execution_count": null,
      "outputs": [
        {
          "output_type": "stream",
          "name": "stdout",
          "text": [
            "2 5 7 4\n",
            "3 3 4 8\n",
            "1 2\n",
            "3 4\n",
            "(2, 3, 4, 8)\n",
            "(2, 5, 7, 4)\n",
            "(2, 7, 9, 4)\n",
            "Z's mean =\n",
            " 0.5511276474566768\n",
            "Z[0,2,1] =\n",
            " [-2.17796037  8.07171329 -0.5772704   3.36286738  4.48113645 -2.89198428\n",
            " 10.99288867  3.03171932]\n",
            "cache_conv[0][1][2][3] =\n",
            " [-1.1191154   1.9560789  -0.3264995  -1.34267579]\n"
          ]
        }
      ]
    },
    {
      "cell_type": "markdown",
      "source": [
        "Finally, a CONV layer should also contain an activation, in which case you would add the following line of code:\n",
        "\n",
        "```python\n",
        "# Convolve the window to get back one output neuron\n",
        "Z[i, h, w, c] = ...\n",
        "# Apply activation\n",
        "A[i, h, w, c] = activation(Z[i, h, w, c])\n",
        "```\n",
        "\n",
        "You don't need to do it here, however.\n"
      ],
      "metadata": {
        "id": "hCmYzPQqv3Vm"
      }
    },
    {
      "cell_type": "markdown",
      "source": [
        "### Exercise 4 - pool_forward\n",
        "\n",
        "Implement the forward pass of the pooling layer. Follow the hints in the comments below.\n",
        "\n",
        "**Reminder**:\n",
        "As there's no padding, the formulas binding the output shape of the pooling to the input shape is:\n",
        "\n",
        "$$n_H = \\Bigl\\lfloor \\frac{n_{H_{prev}} - f}{stride} \\Bigr\\rfloor +1$$\n",
        "\n",
        "$$n_W = \\Bigl\\lfloor \\frac{n_{W_{prev}} - f}{stride} \\Bigr\\rfloor +1$$\n",
        "\n",
        "$$n_C = n_{C_{prev}}$$\n"
      ],
      "metadata": {
        "id": "_64L_4jOv78Y"
      }
    },
    {
      "cell_type": "code",
      "source": [
        "def pool_forward(A_prev, hparameters, mode = \"max\"):\n",
        "    \"\"\"\n",
        "    Implements the forward pass of the pooling layer\n",
        "\n",
        "    Arguments:\n",
        "    A_prev -- Input data, numpy array of shape (m, n_H_prev, n_W_prev, n_C_prev)\n",
        "    hparameters -- python dictionary containing \"f\" and \"stride\"\n",
        "    mode -- the pooling mode you would like to use, defined as a string (\"max\" or \"average\")\n",
        "\n",
        "    Returns:\n",
        "    A -- output of the pool layer, a numpy array of shape (m, n_H, n_W, n_C)\n",
        "    cache -- cache used in the backward pass of the pooling layer, contains the input and hparameters\n",
        "    \"\"\"\n",
        "\n",
        "    # Retrieve dimensions from the input shape\n",
        "    (m, n_H_prev, n_W_prev, n_C_prev) = A_prev.shape\n",
        "\n",
        "    # Retrieve hyperparameters from \"hparameters\"\n",
        "    f = hparameters[\"f\"]\n",
        "    stride = hparameters[\"stride\"]\n",
        "\n",
        "    # Define the dimensions of the output\n",
        "    n_H = int(1 + (n_H_prev - f) / stride)\n",
        "    n_W = int(1 + (n_W_prev - f) / stride)\n",
        "    n_C = n_C_prev\n",
        "\n",
        "    # Initialize output matrix A\n",
        "    A = np.zeros((m, n_H, n_W, n_C))\n",
        "\n",
        "    # for i in range(None):                         # loop over the training examples\n",
        "        # for h in range(None):                     # loop on the vertical axis of the output volume\n",
        "            # Find the vertical start and end of the current \"slice\" (≈2 lines)\n",
        "            # vert_start = None\n",
        "            # vert_end = None\n",
        "\n",
        "            # for w in range(None):                 # loop on the horizontal axis of the output volume\n",
        "                # Find the vertical start and end of the current \"slice\" (≈2 lines)\n",
        "                # horiz_start = None\n",
        "                # horiz_end = None\n",
        "\n",
        "                # for c in range (None):            # loop over the channels of the output volume\n",
        "\n",
        "                    # Use the corners to define the current slice on the ith training example of A_prev, channel c. (≈1 line)\n",
        "                    # a_prev_slice = None\n",
        "\n",
        "                    # Compute the pooling operation on the slice.\n",
        "                    # Use an if statement to differentiate the modes.\n",
        "                    # Use np.max and np.mean.\n",
        "                    # if mode == \"max\":\n",
        "                        # A[i, h, w, c] = None\n",
        "                    # elif mode == \"average\":\n",
        "                        # A[i, h, w, c] = None\n",
        "\n",
        "    # YOUR CODE STARTS HERE\n",
        "    for i in range(m):\n",
        "        for h in range(n_H):\n",
        "            vert_start = h * stride\n",
        "            vert_end = vert_start + f\n",
        "            for w in range(n_W):\n",
        "                horiz_start = w * stride\n",
        "                horiz_end = horiz_start + f\n",
        "                for c in range(n_C):\n",
        "                    a_prev_slice = A_prev[vert_start:vert_end, horiz_start:horiz_end, :]\n",
        "                    if mode == \"max\":\n",
        "                        A[i, h, w, c] = np.max(a_prev_slice)\n",
        "                    elif mode == \"average\":\n",
        "                        A[i, h, w, c] = np.mean(a_prev_slice)\n",
        "\n",
        "    # YOUR CODE ENDS HERE\n",
        "\n",
        "    # Store the input and hparameters in \"cache\" for pool_backward()\n",
        "    cache = (A_prev, hparameters)\n",
        "\n",
        "    # Making sure your output shape is correct\n",
        "    #assert(A.shape == (m, n_H, n_W, n_C))\n",
        "\n",
        "    return A, cache"
      ],
      "metadata": {
        "id": "sK9GNfocvzRB"
      },
      "execution_count": null,
      "outputs": []
    },
    {
      "cell_type": "code",
      "source": [
        "# Case 1: stride of 1\n",
        "np.random.seed(1)\n",
        "A_prev = np.random.randn(2, 5, 5, 3)\n",
        "hparameters = {\"stride\" : 1, \"f\": 3}\n",
        "\n",
        "A, cache = pool_forward(A_prev, hparameters, mode = \"max\")\n",
        "print(\"mode = max\")\n",
        "print(\"A.shape = \" + str(A.shape))\n",
        "print(\"A[1, 1] =\\n\", A[1, 1])\n",
        "A, cache = pool_forward(A_prev, hparameters, mode = \"average\")\n",
        "print(\"mode = average\")\n",
        "print(\"A.shape = \" + str(A.shape))\n",
        "print(\"A[1, 1] =\\n\", A[1, 1])"
      ],
      "metadata": {
        "colab": {
          "base_uri": "https://localhost:8080/",
          "height": 425
        },
        "id": "iu0wzuAkwBIm",
        "outputId": "76e4d3d4-1960-4772-b879-2cce97025731"
      },
      "execution_count": null,
      "outputs": [
        {
          "output_type": "error",
          "ename": "ValueError",
          "evalue": "ignored",
          "traceback": [
            "\u001b[0;31m---------------------------------------------------------------------------\u001b[0m",
            "\u001b[0;31mValueError\u001b[0m                                Traceback (most recent call last)",
            "\u001b[0;32m<ipython-input-35-eda2f2b8891b>\u001b[0m in \u001b[0;36m<module>\u001b[0;34m\u001b[0m\n\u001b[1;32m      4\u001b[0m \u001b[0mhparameters\u001b[0m \u001b[0;34m=\u001b[0m \u001b[0;34m{\u001b[0m\u001b[0;34m\"stride\"\u001b[0m \u001b[0;34m:\u001b[0m \u001b[0;36m1\u001b[0m\u001b[0;34m,\u001b[0m \u001b[0;34m\"f\"\u001b[0m\u001b[0;34m:\u001b[0m \u001b[0;36m3\u001b[0m\u001b[0;34m}\u001b[0m\u001b[0;34m\u001b[0m\u001b[0;34m\u001b[0m\u001b[0m\n\u001b[1;32m      5\u001b[0m \u001b[0;34m\u001b[0m\u001b[0m\n\u001b[0;32m----> 6\u001b[0;31m \u001b[0mA\u001b[0m\u001b[0;34m,\u001b[0m \u001b[0mcache\u001b[0m \u001b[0;34m=\u001b[0m \u001b[0mpool_forward\u001b[0m\u001b[0;34m(\u001b[0m\u001b[0mA_prev\u001b[0m\u001b[0;34m,\u001b[0m \u001b[0mhparameters\u001b[0m\u001b[0;34m,\u001b[0m \u001b[0mmode\u001b[0m \u001b[0;34m=\u001b[0m \u001b[0;34m\"max\"\u001b[0m\u001b[0;34m)\u001b[0m\u001b[0;34m\u001b[0m\u001b[0;34m\u001b[0m\u001b[0m\n\u001b[0m\u001b[1;32m      7\u001b[0m \u001b[0mprint\u001b[0m\u001b[0;34m(\u001b[0m\u001b[0;34m\"mode = max\"\u001b[0m\u001b[0;34m)\u001b[0m\u001b[0;34m\u001b[0m\u001b[0;34m\u001b[0m\u001b[0m\n\u001b[1;32m      8\u001b[0m \u001b[0mprint\u001b[0m\u001b[0;34m(\u001b[0m\u001b[0;34m\"A.shape = \"\u001b[0m \u001b[0;34m+\u001b[0m \u001b[0mstr\u001b[0m\u001b[0;34m(\u001b[0m\u001b[0mA\u001b[0m\u001b[0;34m.\u001b[0m\u001b[0mshape\u001b[0m\u001b[0;34m)\u001b[0m\u001b[0;34m)\u001b[0m\u001b[0;34m\u001b[0m\u001b[0;34m\u001b[0m\u001b[0m\n",
            "\u001b[0;32m<ipython-input-34-07c96e53273a>\u001b[0m in \u001b[0;36mpool_forward\u001b[0;34m(A_prev, hparameters, mode)\u001b[0m\n\u001b[1;32m     63\u001b[0m                     \u001b[0ma_prev_slice\u001b[0m \u001b[0;34m=\u001b[0m \u001b[0mA_prev\u001b[0m\u001b[0;34m[\u001b[0m\u001b[0mvert_start\u001b[0m\u001b[0;34m:\u001b[0m\u001b[0mvert_end\u001b[0m\u001b[0;34m,\u001b[0m \u001b[0mhoriz_start\u001b[0m\u001b[0;34m:\u001b[0m\u001b[0mhoriz_end\u001b[0m\u001b[0;34m,\u001b[0m \u001b[0;34m:\u001b[0m\u001b[0;34m]\u001b[0m\u001b[0;34m\u001b[0m\u001b[0;34m\u001b[0m\u001b[0m\n\u001b[1;32m     64\u001b[0m                     \u001b[0;32mif\u001b[0m \u001b[0mmode\u001b[0m \u001b[0;34m==\u001b[0m \u001b[0;34m\"max\"\u001b[0m\u001b[0;34m:\u001b[0m\u001b[0;34m\u001b[0m\u001b[0;34m\u001b[0m\u001b[0m\n\u001b[0;32m---> 65\u001b[0;31m                         \u001b[0mA\u001b[0m\u001b[0;34m[\u001b[0m\u001b[0mi\u001b[0m\u001b[0;34m,\u001b[0m \u001b[0mh\u001b[0m\u001b[0;34m,\u001b[0m \u001b[0mw\u001b[0m\u001b[0;34m,\u001b[0m \u001b[0mc\u001b[0m\u001b[0;34m]\u001b[0m \u001b[0;34m=\u001b[0m \u001b[0mnp\u001b[0m\u001b[0;34m.\u001b[0m\u001b[0mmax\u001b[0m\u001b[0;34m(\u001b[0m\u001b[0ma_prev_slice\u001b[0m\u001b[0;34m)\u001b[0m\u001b[0;34m\u001b[0m\u001b[0;34m\u001b[0m\u001b[0m\n\u001b[0m\u001b[1;32m     66\u001b[0m                     \u001b[0;32melif\u001b[0m \u001b[0mmode\u001b[0m \u001b[0;34m==\u001b[0m \u001b[0;34m\"average\"\u001b[0m\u001b[0;34m:\u001b[0m\u001b[0;34m\u001b[0m\u001b[0;34m\u001b[0m\u001b[0m\n\u001b[1;32m     67\u001b[0m                         \u001b[0mA\u001b[0m\u001b[0;34m[\u001b[0m\u001b[0mi\u001b[0m\u001b[0;34m,\u001b[0m \u001b[0mh\u001b[0m\u001b[0;34m,\u001b[0m \u001b[0mw\u001b[0m\u001b[0;34m,\u001b[0m \u001b[0mc\u001b[0m\u001b[0;34m]\u001b[0m \u001b[0;34m=\u001b[0m \u001b[0mnp\u001b[0m\u001b[0;34m.\u001b[0m\u001b[0mmean\u001b[0m\u001b[0;34m(\u001b[0m\u001b[0ma_prev_slice\u001b[0m\u001b[0;34m)\u001b[0m\u001b[0;34m\u001b[0m\u001b[0;34m\u001b[0m\u001b[0m\n",
            "\u001b[0;32m<__array_function__ internals>\u001b[0m in \u001b[0;36mamax\u001b[0;34m(*args, **kwargs)\u001b[0m\n",
            "\u001b[0;32m/usr/local/lib/python3.8/dist-packages/numpy/core/fromnumeric.py\u001b[0m in \u001b[0;36mamax\u001b[0;34m(a, axis, out, keepdims, initial, where)\u001b[0m\n\u001b[1;32m   2752\u001b[0m     \u001b[0;36m5\u001b[0m\u001b[0;34m\u001b[0m\u001b[0;34m\u001b[0m\u001b[0m\n\u001b[1;32m   2753\u001b[0m     \"\"\"\n\u001b[0;32m-> 2754\u001b[0;31m     return _wrapreduction(a, np.maximum, 'max', axis, None, out,\n\u001b[0m\u001b[1;32m   2755\u001b[0m                           keepdims=keepdims, initial=initial, where=where)\n\u001b[1;32m   2756\u001b[0m \u001b[0;34m\u001b[0m\u001b[0m\n",
            "\u001b[0;32m/usr/local/lib/python3.8/dist-packages/numpy/core/fromnumeric.py\u001b[0m in \u001b[0;36m_wrapreduction\u001b[0;34m(obj, ufunc, method, axis, dtype, out, **kwargs)\u001b[0m\n\u001b[1;32m     84\u001b[0m                 \u001b[0;32mreturn\u001b[0m \u001b[0mreduction\u001b[0m\u001b[0;34m(\u001b[0m\u001b[0maxis\u001b[0m\u001b[0;34m=\u001b[0m\u001b[0maxis\u001b[0m\u001b[0;34m,\u001b[0m \u001b[0mout\u001b[0m\u001b[0;34m=\u001b[0m\u001b[0mout\u001b[0m\u001b[0;34m,\u001b[0m \u001b[0;34m**\u001b[0m\u001b[0mpasskwargs\u001b[0m\u001b[0;34m)\u001b[0m\u001b[0;34m\u001b[0m\u001b[0;34m\u001b[0m\u001b[0m\n\u001b[1;32m     85\u001b[0m \u001b[0;34m\u001b[0m\u001b[0m\n\u001b[0;32m---> 86\u001b[0;31m     \u001b[0;32mreturn\u001b[0m \u001b[0mufunc\u001b[0m\u001b[0;34m.\u001b[0m\u001b[0mreduce\u001b[0m\u001b[0;34m(\u001b[0m\u001b[0mobj\u001b[0m\u001b[0;34m,\u001b[0m \u001b[0maxis\u001b[0m\u001b[0;34m,\u001b[0m \u001b[0mdtype\u001b[0m\u001b[0;34m,\u001b[0m \u001b[0mout\u001b[0m\u001b[0;34m,\u001b[0m \u001b[0;34m**\u001b[0m\u001b[0mpasskwargs\u001b[0m\u001b[0;34m)\u001b[0m\u001b[0;34m\u001b[0m\u001b[0;34m\u001b[0m\u001b[0m\n\u001b[0m\u001b[1;32m     87\u001b[0m \u001b[0;34m\u001b[0m\u001b[0m\n\u001b[1;32m     88\u001b[0m \u001b[0;34m\u001b[0m\u001b[0m\n",
            "\u001b[0;31mValueError\u001b[0m: zero-size array to reduction operation maximum which has no identity"
          ]
        }
      ]
    },
    {
      "cell_type": "code",
      "source": [],
      "metadata": {
        "id": "eCcGOttZwEvU"
      },
      "execution_count": null,
      "outputs": []
    }
  ]
}